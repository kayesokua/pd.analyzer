{
 "cells": [
  {
   "cell_type": "markdown",
   "id": "0cdf78a9-e4e3-45f9-baf6-f998e13f4290",
   "metadata": {},
   "source": [
    "# User Input Video Processing\n",
    "\n",
    "Here we will outline the key processes of how a user upload video:\n",
    "1. pose landmark extraction\n",
    "2. pose features engineering\n",
    "3. pose plot visualizations"
   ]
  },
  {
   "cell_type": "code",
   "execution_count": 1,
   "id": "f2716daa-e04e-4657-8451-1efae5581735",
   "metadata": {},
   "outputs": [],
   "source": [
    "import os\n",
    "import sys\n",
    "\n",
    "# Adjust the system path\n",
    "sys.path.append('../')\n",
    "\n",
    "# Define the relative paths\n",
    "user_video = '../data/uploads/user0/default1.mp4'\n",
    "user_video_output_dir = '../data/processed/user0/sample/'\n",
    "\n",
    "# Create the output directory\n",
    "os.makedirs(user_video_output_dir, exist_ok=True)"
   ]
  },
  {
   "cell_type": "code",
   "execution_count": null,
   "id": "2b5eb4cd-6917-4788-b1f4-a9bf363d5ed0",
   "metadata": {},
   "outputs": [],
   "source": [
    "from app.services.converter_video import *\n",
    "decompose_video_to_frames(user_video, user_video_output_dir)"
   ]
  },
  {
   "cell_type": "code",
   "execution_count": null,
   "id": "a12ce027-5291-40af-9426-68fa31a86eed",
   "metadata": {},
   "outputs": [],
   "source": [
    "from app.services.pose_landmarker import *\n",
    "\n",
    "model_path = '../app/models/ml/pose_landmarker.task'\n",
    "pose_df,pose_world_df = create_pose_landmark_dictionary(user_video_output_dir, model_path)"
   ]
  },
  {
   "cell_type": "code",
   "execution_count": null,
   "id": "1f231440-90a2-4149-bb96-790d67e0944b",
   "metadata": {},
   "outputs": [],
   "source": [
    "import pandas as pd\n",
    "from app.services.pose_plot_visualization import *\n",
    "\n",
    "pose_df = pd.read_csv('../data/processed/user0/sample/results_2d.csv')\n",
    "pose_world_df = pd.read_csv('../data/processed/user0/sample/results_3d.csv')\n",
    "\n",
    "for index, _ in pose_df.iterrows():\n",
    "    plot_2d_coordinates(pose_df, index, os.path.join(user_video_output_dir, 'plot2d'))\n",
    "    plot_3d_coordinates(pose_world_df, index, os.path.join(user_video_output_dir, 'plot3d'))"
   ]
  },
  {
   "cell_type": "code",
   "execution_count": 2,
   "id": "23fba57e-984c-487c-b985-3f20425d611d",
   "metadata": {},
   "outputs": [],
   "source": [
    "from app.services.converter_gif import *\n",
    "\n",
    "create_gif_from_folder('../data/processed/user0/sample/plot3d')"
   ]
  }
 ],
 "metadata": {
  "kernelspec": {
   "display_name": "Python 3 (ipykernel)",
   "language": "python",
   "name": "python3"
  },
  "language_info": {
   "codemirror_mode": {
    "name": "ipython",
    "version": 3
   },
   "file_extension": ".py",
   "mimetype": "text/x-python",
   "name": "python",
   "nbconvert_exporter": "python",
   "pygments_lexer": "ipython3",
   "version": "3.11.6"
  }
 },
 "nbformat": 4,
 "nbformat_minor": 5
}
