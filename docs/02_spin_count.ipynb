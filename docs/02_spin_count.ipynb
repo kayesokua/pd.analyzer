{
 "cells": [
  {
   "cell_type": "code",
   "execution_count": 35,
   "id": "76fa1fb9-ca74-42d2-aaf0-a832ec14e7f5",
   "metadata": {},
   "outputs": [],
   "source": [
    "import pandas as pd\n",
    "\n",
    "pose_norm_data = pd.read_csv('data/processed/user0/sample2/pose_norm_data.csv')\n",
    "pose_world_data = pd.read_csv('data/processed/user0/sample2/pose_world_data.csv')\n",
    "\n",
    "z_columns = sorted([col for col in pose_norm_data.columns if col.endswith('_z')])"
   ]
  },
  {
   "cell_type": "code",
   "execution_count": 36,
   "id": "05cca6cb-349c-434c-b907-f4f8f3e1e94a",
   "metadata": {},
   "outputs": [
    {
     "data": {
      "text/plain": [
       "landmark_00_z   -0.425774\n",
       "landmark_01_z   -0.389451\n",
       "landmark_02_z   -0.389923\n",
       "landmark_03_z   -0.389719\n",
       "landmark_04_z   -0.398471\n",
       "landmark_05_z   -0.398933\n",
       "landmark_06_z   -0.399072\n",
       "landmark_07_z   -0.220455\n",
       "landmark_08_z   -0.261305\n",
       "landmark_09_z   -0.360379\n",
       "Name: 0, dtype: float64"
      ]
     },
     "execution_count": 36,
     "metadata": {},
     "output_type": "execute_result"
    }
   ],
   "source": [
    "front_norm = pose_norm_data[z_columns].iloc[0, :10]\n",
    "back_norm = pose_norm_data[z_columns].iloc[5, :10]\n",
    "\n",
    "front_world = pose_world_data[z_columns].iloc[0, :10]\n",
    "back_world = pose_world_data[z_columns].iloc[5, :10]\n",
    "\n",
    "front_norm"
   ]
  },
  {
   "cell_type": "code",
   "execution_count": 37,
   "id": "f0aa7a98-2233-481a-b809-aa728aedf36b",
   "metadata": {},
   "outputs": [
    {
     "data": {
      "text/plain": [
       "landmark_00_z   -0.307129\n",
       "landmark_01_z   -0.294018\n",
       "landmark_02_z   -0.285885\n",
       "landmark_03_z   -0.284825\n",
       "landmark_04_z   -0.308590\n",
       "landmark_05_z   -0.320307\n",
       "landmark_06_z   -0.300893\n",
       "landmark_07_z   -0.185955\n",
       "landmark_08_z   -0.202966\n",
       "landmark_09_z   -0.264468\n",
       "Name: 0, dtype: float64"
      ]
     },
     "execution_count": 37,
     "metadata": {},
     "output_type": "execute_result"
    }
   ],
   "source": [
    "front_world"
   ]
  },
  {
   "cell_type": "code",
   "execution_count": 38,
   "id": "558366eb-780b-4995-960e-4f7b753371c9",
   "metadata": {},
   "outputs": [
    {
     "data": {
      "text/plain": [
       "landmark_00_z    0.354849\n",
       "landmark_01_z    0.334396\n",
       "landmark_02_z    0.334072\n",
       "landmark_03_z    0.333971\n",
       "landmark_04_z    0.331141\n",
       "landmark_05_z    0.330782\n",
       "landmark_06_z    0.330553\n",
       "landmark_07_z    0.225917\n",
       "landmark_08_z    0.205945\n",
       "landmark_09_z    0.323304\n",
       "Name: 5, dtype: float64"
      ]
     },
     "execution_count": 38,
     "metadata": {},
     "output_type": "execute_result"
    }
   ],
   "source": [
    "back_norm"
   ]
  },
  {
   "cell_type": "code",
   "execution_count": 39,
   "id": "e42669bb-b0a9-4bb5-a8a8-a2f3e0917ce6",
   "metadata": {},
   "outputs": [
    {
     "data": {
      "text/plain": [
       "landmark_00_z    0.156557\n",
       "landmark_01_z    0.136254\n",
       "landmark_02_z    0.147706\n",
       "landmark_03_z    0.143369\n",
       "landmark_04_z    0.121160\n",
       "landmark_05_z    0.108191\n",
       "landmark_06_z    0.126177\n",
       "landmark_07_z    0.078008\n",
       "landmark_08_z    0.061550\n",
       "landmark_09_z    0.147823\n",
       "Name: 5, dtype: float64"
      ]
     },
     "execution_count": 39,
     "metadata": {},
     "output_type": "execute_result"
    }
   ],
   "source": [
    "back_world"
   ]
  },
  {
   "cell_type": "code",
   "execution_count": 68,
   "id": "19e148c3-d8c5-4f28-ab18-27b8149c8b7b",
   "metadata": {},
   "outputs": [],
   "source": [
    "import numpy as np\n",
    "\n",
    "def count_spins(df):\n",
    "    z_columns = ['head_z','chest_z','hip_z']\n",
    "    faces = []\n",
    "    for index, row in df[z_columns].iterrows():\n",
    "        if np.mean(row) < 0: #If negative, it is front\n",
    "            faces.append('front')\n",
    "        else:\n",
    "            faces.append('back')\n",
    "            \n",
    "    spin_count = 0\n",
    "    \n",
    "    for i in range(len(faces) - 1):\n",
    "        if faces[i] != faces[i + 1]:\n",
    "            spin_count += 1\n",
    "\n",
    "    return spin_count - 1 # we remove the first"
   ]
  },
  {
   "cell_type": "code",
   "execution_count": 79,
   "id": "d41e0906-e1c6-44b0-9017-8bd4a401b83e",
   "metadata": {},
   "outputs": [
    {
     "name": "stdout",
     "output_type": "stream",
     "text": [
      "['back', 'front', 'front', 'front', 'front', 'front', 'back', 'back', 'back', 'back', 'back', 'front', 'front', 'front', 'front', 'front', 'back', 'back', 'back', 'front', 'front', 'front', 'front', 'back', 'back', 'back', 'back', 'front', 'front', 'front', 'front', 'front', 'front', 'front', 'back', 'back', 'back', 'back', 'back', 'back']\n",
      "7\n"
     ]
    }
   ],
   "source": [
    "pose_norm_data1 = pd.read_csv('data/processed/user0/sample1/pose_norm_data.csv')\n",
    "pose_world_data1 = pd.read_csv('data/processed/user0/sample1/pose_world_data.csv')\n",
    "\n",
    "\n",
    "faces1b, spin_count1b = count_spins(pose_world_data1[z_columns].iloc[:,:])\n",
    "\n",
    "print(faces1b)\n",
    "print(spin_count1b)"
   ]
  },
  {
   "cell_type": "code",
   "execution_count": 80,
   "id": "f7edadf8-c5d5-4566-bb3b-a4ff9dab2fcc",
   "metadata": {},
   "outputs": [
    {
     "name": "stdout",
     "output_type": "stream",
     "text": [
      "['front', 'front', 'front', 'front', 'front', 'back', 'back', 'back', 'back', 'back', 'back', 'back', 'back', 'back', 'back', 'front', 'front', 'front', 'front', 'front', 'front', 'front', 'front', 'front', 'back', 'front', 'back', 'back', 'back', 'back', 'back', 'back', 'back', 'back', 'front', 'front', 'front', 'front', 'front', 'front', 'front', 'front', 'back']\n",
      "6\n"
     ]
    }
   ],
   "source": [
    "pose_norm_data2 = pd.read_csv('data/processed/user0/sample2/pose_norm_data.csv')\n",
    "pose_world_data2 = pd.read_csv('data/processed/user0/sample2/pose_world_data.csv')\n",
    "\n",
    "faces2b, spin_count2b = count_spins(pose_world_data2[z_columns].iloc[:, :])\n",
    "\n",
    "print(faces2b)\n",
    "print(spin_count2b)"
   ]
  }
 ],
 "metadata": {
  "kernelspec": {
   "display_name": "Python 3 (ipykernel)",
   "language": "python",
   "name": "python3"
  },
  "language_info": {
   "codemirror_mode": {
    "name": "ipython",
    "version": 3
   },
   "file_extension": ".py",
   "mimetype": "text/x-python",
   "name": "python",
   "nbconvert_exporter": "python",
   "pygments_lexer": "ipython3",
   "version": "3.11.6"
  }
 },
 "nbformat": 4,
 "nbformat_minor": 5
}
